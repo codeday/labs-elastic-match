{
 "cells": [
  {
   "cell_type": "code",
   "execution_count": 16,
   "outputs": [],
   "source": [
    "import elasticsearch_dsl\n",
    "from elasticsearch import Elasticsearch\n",
    "\n",
    "client = Elasticsearch(hosts=['10.0.3.33:9200'])"
   ],
   "metadata": {
    "collapsed": false,
    "pycharm": {
     "name": "#%%\n"
    }
   }
  },
  {
   "cell_type": "code",
   "execution_count": 17,
   "outputs": [],
   "source": [
    "import uuid\n",
    "from faker import Faker\n",
    "import random\n",
    "fake = Faker()\n",
    "\n",
    "student = {\n",
    "    \"id\": uuid.uuid4(),\n",
    "    \"name\": fake.name(),\n",
    "    \"rural\": True,\n",
    "    \"underrepresented\": True,\n",
    "    \"timezone\": random.randint(-8, 4),\n",
    "    \"interestCompanies\": ['Davis, Sosa and Wall', fake.company(), fake.company(), fake.company()],\n",
    "    \"interestTags\": fake.words(),\n",
    "    \"requireExtended\": False\n",
    "}\n"
   ],
   "metadata": {
    "collapsed": false,
    "pycharm": {
     "name": "#%%\n"
    }
   }
  },
  {
   "cell_type": "code",
   "execution_count": 18,
   "outputs": [],
   "source": [
    "# background_rural = {\n",
    "#     \"term\": {\n",
    "#         \"backgroundRural\": {\n",
    "#             \"value\": True\n",
    "#         }\n",
    "#     }\n",
    "# }\n",
    "#\n",
    "# query_body = {\n",
    "#     \"query\": {\n",
    "#         background_rural\n",
    "#     }\n",
    "# }\n",
    "#\n",
    "# result = client.search(index=\"mentors_index\", body=query_body)\n",
    "# hits = result[\"hits\"][\"hits\"]\n"
   ],
   "metadata": {
    "collapsed": false,
    "pycharm": {
     "name": "#%%\n"
    }
   }
  },
  {
   "cell_type": "code",
   "execution_count": 20,
   "outputs": [
    {
     "output_type": "error",
     "ename": "ValueError",
     "evalue": "dictionary update sequence element #0 has length 5; 2 is required",
     "traceback": [
      "\u001b[1;31m---------------------------------------------------------------------------\u001b[0m",
      "\u001b[1;31mValueError\u001b[0m                                Traceback (most recent call last)",
      "\u001b[1;32m<ipython-input-20-b3af3112b025>\u001b[0m in \u001b[0;36m<module>\u001b[1;34m\u001b[0m\n\u001b[0;32m     42\u001b[0m \u001b[0mresp\u001b[0m \u001b[1;33m=\u001b[0m \u001b[0ms\u001b[0m\u001b[1;33m.\u001b[0m\u001b[0mexecute\u001b[0m\u001b[1;33m(\u001b[0m\u001b[1;33m)\u001b[0m\u001b[1;33m\u001b[0m\u001b[1;33m\u001b[0m\u001b[0m\n\u001b[0;32m     43\u001b[0m \u001b[0mhits\u001b[0m \u001b[1;33m=\u001b[0m \u001b[0mresp\u001b[0m\u001b[1;33m[\u001b[0m\u001b[1;34m\"hits\"\u001b[0m\u001b[1;33m]\u001b[0m\u001b[1;33m\u001b[0m\u001b[1;33m\u001b[0m\u001b[0m\n\u001b[1;32m---> 44\u001b[1;33m \u001b[0mprint\u001b[0m\u001b[1;33m(\u001b[0m\u001b[0mdict\u001b[0m\u001b[1;33m(\u001b[0m\u001b[0mhits\u001b[0m\u001b[1;33m)\u001b[0m\u001b[1;33m)\u001b[0m\u001b[1;33m\u001b[0m\u001b[1;33m\u001b[0m\u001b[0m\n\u001b[0m",
      "\u001b[1;31mValueError\u001b[0m: dictionary update sequence element #0 has length 5; 2 is required"
     ]
    }
   ],
   "source": [
    "from elasticsearch_dsl import Q\n",
    "from elasticsearch_dsl.query import MatchNone, MatchAll\n",
    "\n",
    "s = elasticsearch_dsl.Search(using=client, index='mentors_index').highlight(\"backgroundRural\").extra(explain=True)\n",
    "\n",
    "# Adds one to all quer\n",
    "base_value = Q(\"constant_score\", filter=MatchAll())\n",
    "\n",
    "# Uses a fuzzy query to determine if a person works for a company in the student's list, then if so adds to the score\n",
    "company_q = None\n",
    "for company in student[\"interestCompanies\"]:\n",
    "    if company_q is None:\n",
    "        company_q = Q(\"function_score\", query=Q(\"fuzzy\", company=company), weight=\"10\", score_mode=\"multiply\")\n",
    "    else:\n",
    "        company_q = (company_q | Q(\"function_score\", query=Q(\"fuzzy\", company=company), weight=\"10\", score_mode=\"multiply\"))\n",
    "\n",
    "# If background_rural matches on mentor and student, then adds one to the query\n",
    "background_rural = Q(\"constant_score\", filter=Q(\"term\", backgroundRural=student['rural']))\n",
    "\n",
    "# If student is underrepresented, adds the value of prefer_student_underrep to the query\n",
    "if student[\"underrepresented\"]:\n",
    "    prefer_student_underrep = Q({\n",
    "        \"function_score\": {\n",
    "            \"field_value_factor\" : {\n",
    "                \"field\": \"preferStudentUnderRep\",\n",
    "                \"factor\": 1,\n",
    "                \"modifier\": \"none\",\n",
    "                \"missing\": 0\n",
    "            }\n",
    "        }\n",
    "    })\n",
    "else:\n",
    "    # Adds 0 to query if nothing is found\n",
    "    prefer_student_underrep = Q(\"constant_score\", filter=MatchNone())\n",
    "\n",
    "if student[\"requireExtended\"]:\n",
    "    requireExtended = Q(\"term\", okExtended=True)\n",
    "    s = s.query((base_value | company_q | background_rural | prefer_student_underrep) & requireExtended)\n",
    "else:\n",
    "    s = s.query(base_value | company_q | background_rural | prefer_student_underrep)\n",
    "\n",
    "resp = s.execute()\n",
    "hits = resp[\"hits\"]\n",
    "print(hits)"
   ],
   "metadata": {
    "collapsed": false,
    "pycharm": {
     "name": "#%%\n"
    }
   }
  },
  {
   "cell_type": "code",
   "execution_count": null,
   "metadata": {},
   "outputs": [],
   "source": []
  }
 ],
 "metadata": {
  "kernelspec": {
   "display_name": "Python 3.7.7 64-bit ('venv': venv)",
   "language": "python",
   "name": "python37764bitvenvvenvcce076fa418543029935721143235f72"
  },
  "language_info": {
   "codemirror_mode": {
    "name": "ipython",
    "version": 2
   },
   "file_extension": ".py",
   "mimetype": "text/x-python",
   "name": "python",
   "nbconvert_exporter": "python",
   "pygments_lexer": "ipython2",
   "version": "3.7.7-final"
  }
 },
 "nbformat": 4,
 "nbformat_minor": 0
}