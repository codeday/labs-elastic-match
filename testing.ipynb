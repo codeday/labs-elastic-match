{
 "cells": [
  {
   "cell_type": "code",
   "execution_count": 0,
   "metadata": {
    "collapsed": true
   },
   "outputs": [],
   "source": []
  },
  {
   "cell_type": "code",
   "execution_count": 1,
   "outputs": [],
   "source": [
    "import elasticsearch_dsl\n",
    "from elasticsearch import Elasticsearch\n",
    "\n",
    "client = Elasticsearch(hosts=['10.0.3.33:9200'])"
   ],
   "metadata": {
    "collapsed": false,
    "pycharm": {
     "name": "#%%\n"
    }
   }
  },
  {
   "cell_type": "code",
   "execution_count": 9,
   "outputs": [],
   "source": [
    "from csv import DictReader\n",
    "\n",
    "enc = 'utf-8'\n",
    "\n",
    "student_csv_file_main = open(\"./data/Student_Application1 (1).xlsm - StudentApplication.csv\", encoding=enc)\n",
    "student_csv_file_resume = open(\"./data/Student_Application1 (1).xlsm - AdvancedTrackQuestions.IfYouHav.csv\", encoding=enc)\n",
    "student_csv_file_university = open(\"./data/Student_Application1 (1).xlsm - AreThereAnyUniversitiesYoudPart.csv\", encoding=enc)\n",
    "student_csv_file_company = open(\"./data/Student_Application1 (1).xlsm - AreThereAnyCompaniesYoudParticu.csv\", encoding=enc)\n",
    "\n",
    "student_dict_list_main = [i for i in DictReader(student_csv_file_main)]\n",
    "student_dict_list_resume = [i for i in DictReader(student_csv_file_resume)]\n",
    "student_dict_list_university = [i for i in DictReader(student_csv_file_university)]\n",
    "student_dict_list_company = [i for i in DictReader(student_csv_file_company)]\n",
    "\n"
   ],
   "metadata": {
    "collapsed": false,
    "pycharm": {
     "name": "#%%\n"
    }
   }
  },
  {
   "cell_type": "code",
   "execution_count": 20,
   "outputs": [
    {
     "ename": "TypeError",
     "evalue": "__init__() got an unexpected keyword argument 'explain'",
     "output_type": "error",
     "traceback": [
      "\u001B[1;31m---------------------------------------------------------------------------\u001B[0m",
      "\u001B[1;31mTypeError\u001B[0m                                 Traceback (most recent call last)",
      "\u001B[1;32m<ipython-input-20-3c2ea29adfc3>\u001B[0m in \u001B[0;36m<module>\u001B[1;34m\u001B[0m\n\u001B[0;32m      7\u001B[0m \u001B[0mstudent_companies\u001B[0m \u001B[1;33m=\u001B[0m \u001B[1;33m[\u001B[0m\u001B[0mi\u001B[0m \u001B[1;32mfor\u001B[0m \u001B[0mi\u001B[0m \u001B[1;32min\u001B[0m \u001B[0mstudent_dict_list_company\u001B[0m \u001B[1;32mif\u001B[0m \u001B[0mi\u001B[0m\u001B[1;33m[\u001B[0m\u001B[1;34m'StudentApplication_Id'\u001B[0m\u001B[1;33m]\u001B[0m \u001B[1;33m==\u001B[0m \u001B[0mstudent\u001B[0m\u001B[1;33m[\u001B[0m\u001B[1;34m'StudentApplication_Id'\u001B[0m\u001B[1;33m]\u001B[0m\u001B[1;33m]\u001B[0m\u001B[1;33m\u001B[0m\u001B[1;33m\u001B[0m\u001B[0m\n\u001B[0;32m      8\u001B[0m \u001B[1;33m\u001B[0m\u001B[0m\n\u001B[1;32m----> 9\u001B[1;33m s = elasticsearch_dsl.Search(using=client, index='mentors_index', explain=True).query(\n\u001B[0m\u001B[0;32m     10\u001B[0m     \"match_all\")\n\u001B[0;32m     11\u001B[0m \u001B[1;33m\u001B[0m\u001B[0m\n",
      "\u001B[1;32mc:\\users\\jdc10\\documents\\srnd\\elasticmatch\\venv\\lib\\site-packages\\elasticsearch_dsl\\search.py\u001B[0m in \u001B[0;36m__init__\u001B[1;34m(self, **kwargs)\u001B[0m\n\u001B[0;32m    297\u001B[0m         \u001B[0moverridden\u001B[0m \u001B[0mby\u001B[0m \u001B[0mmethods\u001B[0m \u001B[1;33m(\u001B[0m\u001B[0;31m`\u001B[0m\u001B[0musing\u001B[0m\u001B[0;31m`\u001B[0m\u001B[1;33m,\u001B[0m\u001B[0;31m \u001B[0m\u001B[0;31m`\u001B[0m\u001B[0mindex\u001B[0m\u001B[0;31m`\u001B[0m \u001B[1;32mand\u001B[0m\u001B[0;31m \u001B[0m\u001B[0;31m`\u001B[0m\u001B[0mdoc_type\u001B[0m\u001B[0;31m`\u001B[0m \u001B[0mrespectively\u001B[0m\u001B[1;33m)\u001B[0m\u001B[1;33m.\u001B[0m\u001B[1;33m\u001B[0m\u001B[1;33m\u001B[0m\u001B[0m\n\u001B[0;32m    298\u001B[0m         \"\"\"\n\u001B[1;32m--> 299\u001B[1;33m         \u001B[0msuper\u001B[0m\u001B[1;33m(\u001B[0m\u001B[0mSearch\u001B[0m\u001B[1;33m,\u001B[0m \u001B[0mself\u001B[0m\u001B[1;33m)\u001B[0m\u001B[1;33m.\u001B[0m\u001B[0m__init__\u001B[0m\u001B[1;33m(\u001B[0m\u001B[1;33m**\u001B[0m\u001B[0mkwargs\u001B[0m\u001B[1;33m)\u001B[0m\u001B[1;33m\u001B[0m\u001B[1;33m\u001B[0m\u001B[0m\n\u001B[0m\u001B[0;32m    300\u001B[0m \u001B[1;33m\u001B[0m\u001B[0m\n\u001B[0;32m    301\u001B[0m         \u001B[0mself\u001B[0m\u001B[1;33m.\u001B[0m\u001B[0maggs\u001B[0m \u001B[1;33m=\u001B[0m \u001B[0mAggsProxy\u001B[0m\u001B[1;33m(\u001B[0m\u001B[0mself\u001B[0m\u001B[1;33m)\u001B[0m\u001B[1;33m\u001B[0m\u001B[1;33m\u001B[0m\u001B[0m\n",
      "\u001B[1;31mTypeError\u001B[0m: __init__() got an unexpected keyword argument 'explain'"
     ]
    }
   ],
   "source": [
    "from elasticsearch_dsl import Q\n",
    "\n",
    "# for student in student_dict_list_main: # Will add back later, just need one for testing\n",
    "student = student_dict_list_main[6]\n",
    "student_resumes = [i for i in student_dict_list_resume if i['StudentApplication_Id'] == student['StudentApplication_Id']]\n",
    "student_universities = [i for i in student_dict_list_university if i['StudentApplication_Id'] == student['StudentApplication_Id']]\n",
    "student_companies = [i for i in student_dict_list_company if i['StudentApplication_Id'] == student['StudentApplication_Id']]\n",
    "\n",
    "s = elasticsearch_dsl.Search(using=client, index='mentors_index', explain=True)\n",
    "\n",
    "tz_weight = Q(\"bool\", )\n",
    "\n",
    "\n",
    "resp = s.execute()\n"
   ],
   "metadata": {
    "collapsed": false,
    "pycharm": {
     "name": "#%%\n"
    }
   }
  }
 ],
 "metadata": {
  "kernelspec": {
   "display_name": "Python 3",
   "language": "python",
   "name": "python3"
  },
  "language_info": {
   "codemirror_mode": {
    "name": "ipython",
    "version": 2
   },
   "file_extension": ".py",
   "mimetype": "text/x-python",
   "name": "python",
   "nbconvert_exporter": "python",
   "pygments_lexer": "ipython2",
   "version": "2.7.6"
  }
 },
 "nbformat": 4,
 "nbformat_minor": 0
}