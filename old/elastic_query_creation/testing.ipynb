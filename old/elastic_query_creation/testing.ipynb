{
 "cells": [
  {
   "cell_type": "code",
   "execution_count": 5,
   "metadata": {
    "pycharm": {
     "name": "#%%\n"
    }
   },
   "outputs": [],
   "source": [
    "import elasticsearch_dsl\n",
    "from elasticsearch import Elasticsearch\n",
    "\n",
    "client = Elasticsearch(hosts=['10.0.3.33:9200'])"
   ]
  },
  {
   "cell_type": "code",
   "execution_count": 116,
   "metadata": {
    "pycharm": {
     "name": "#%%\n"
    }
   },
   "outputs": [],
   "source": [
    "import uuid\n",
    "from faker import Faker\n",
    "import random\n",
    "fake = Faker()\n",
    "\n",
    "student = {\n",
    "    \"id\": uuid.uuid4(),\n",
    "    \"name\": fake.name(),\n",
    "    \"rural\": True,\n",
    "    \"underrepresented\": True,\n",
    "    \"timezone\": random.randint(-8, 4),\n",
    "    \"interestCompanies\": ['Microsoft', \"Google\", fake.company(), fake.company()],\n",
    "    \"interestTags\": [\"javascript\", \"java\", \"python\", \"php\"],\n",
    "    \"requireExtended\": False\n",
    "}"
   ]
  },
  {
   "cell_type": "code",
   "execution_count": 7,
   "metadata": {
    "pycharm": {
     "name": "#%%\n"
    }
   },
   "outputs": [],
   "source": [
    "# background_rural = {\n",
    "#     \"term\": {\n",
    "#         \"backgroundRural\": {\n",
    "#             \"value\": True\n",
    "#         }\n",
    "#     }\n",
    "# }\n",
    "#\n",
    "# query_body = {\n",
    "#     \"query\": {\n",
    "#         background_rural\n",
    "#     }\n",
    "# }\n",
    "#\n",
    "# result = client.search(index=\"mentors_index\", body=query_body)\n",
    "# hits = result[\"hits\"][\"hits\""
   ]
  },
  {
   "cell_type": "code",
   "execution_count": 127,
   "metadata": {
    "pycharm": {
     "name": "#%%\n"
    }
   },
   "outputs": [
    {
     "name": "stdout",
     "output_type": "stream",
     "text": [
      "{'query': {'function_score': {'query': {'bool': {'should': [{'function_score': {'query': {'term': {'proj_tags': 'javascript'}}, 'weight': 1, 'boost_mode': 'replace'}}, {'function_score': {'query': {'term': {'proj_tags': 'java'}}, 'weight': 1, 'boost_mode': 'replace'}}, {'function_score': {'query': {'term': {'proj_tags': 'python'}}, 'weight': 1, 'boost_mode': 'replace'}}, {'function_score': {'query': {'term': {'proj_tags': 'php'}}, 'weight': 1, 'boost_mode': 'replace'}}, {'constant_score': {'filter': {'match_all': {}}}}, {'function_score': {'query': {'fuzzy': {'company': 'Microsoft'}}, 'weight': '1', 'boost_mode': 'replace'}}, {'function_score': {'query': {'fuzzy': {'company': 'Google'}}, 'weight': '1', 'boost_mode': 'replace'}}, {'function_score': {'query': {'fuzzy': {'company': 'Peterson, Bonilla and Washington'}}, 'weight': '1', 'boost_mode': 'replace'}}, {'function_score': {'query': {'fuzzy': {'company': 'Horn Inc'}}, 'weight': '1', 'boost_mode': 'replace'}}, {'constant_score': {'filter': {'term': {'backgroundRural': True}}}}, {'function_score': {'functions': [{'field_value_factor': {'field': 'preferStudentUnderRep', 'factor': 1, 'modifier': 'none', 'missing': 0}}]}}]}}, 'functions': [{'script_score': {'script': {'source': \"\\nint student_tz = params.student_tz;\\nint mentor_tz = 0;\\n// Null check. Even though timezone is required, somehow some null rows snuck in and bamboozled me\\nif (doc['timezone'].size() == 0) {\\n    mentor_tz = 0;\\n} else {\\n    mentor_tz = (int)doc['timezone'].value;\\n}\\nint diff = student_tz - mentor_tz;\\n\\nboolean mentor_ok_tz_diff = false;\\nif (doc['okTimezoneDifference'].size() == 0) {\\n    mentor_ok_tz_diff = false;\\n} else {\\n    mentor_ok_tz_diff = doc['okTimezoneDifference'].value;\\n}\\n\\nif (mentor_ok_tz_diff == true) {\\n    if (student_tz < 22) {\\n        if (student_tz > 16) {\\n            // Mentor is OK with the time difference and student has a large time difference\\n            return 1;\\n        }\\n    } else {\\n        // Mentor is ok with time difference and student has a normal time\\n        return 0.75;\\n    }\\n} else {\\n    if (diff <= 3) {\\n        // Mentor is not ok with time difference and student has normal time\\n        return 1;\\n    } else {\\n        // Mentor is not ok with time difference and student has weird time\\n        return 0;\\n    }\\n}\\n\", 'params': {'student_tz': 1}}}}], 'boost_mode': 'multiply', 'score_mode': 'sum'}}, 'explain': True, 'highlight': {'fields': {'backgroundRural': {}}}}\n"
     ]
    }
   ],
   "source": [
    "from elasticsearch_dsl import Q, SF\n",
    "from elasticsearch_dsl.query import MatchNone, MatchAll\n",
    "\n",
    "s = elasticsearch_dsl.Search(using=client, index='mentors_index').highlight(\"backgroundRural\").extra(explain=True)\n",
    "\n",
    "# Adds one to all queries in order to be sure that, in the worst case, there are enough responses.\n",
    "base_value = Q(\"constant_score\", filter=MatchAll())\n",
    "\n",
    "# Uses a fuzzy query to determine if a person works for a company in the student's list, then if so adds to the score\n",
    "company_q = None\n",
    "for company in student[\"interestCompanies\"]:\n",
    "    if company_q is None:\n",
    "        company_q = Q(\"function_score\", query=Q(\"fuzzy\", company=company), weight=\"1\", boost_mode=\"replace\")\n",
    "    else:\n",
    "        company_q = (company_q | Q(\"function_score\", query=Q(\"fuzzy\", company=company), weight=\"1\", boost_mode=\"replace\"))\n",
    "\n",
    "\n",
    "# If background_rural matches on mentor and student, then adds one to the query\n",
    "background_rural = Q(\"constant_score\", filter=Q(\"term\", backgroundRural=student['rural']))\n",
    "\n",
    "# Adds number of matching tags to score\n",
    "tags_matching = None\n",
    "for interest in student['interestTags']:\n",
    "    if tags_matching is None:\n",
    "        tags_matching = Q(\"function_score\", query=Q(\"term\", proj_tags=interest), weight=1, boost_mode=\"replace\")\n",
    "    else:\n",
    "        tags_matching = (tags_matching | Q(\"function_score\", query=Q(\"term\", proj_tags=interest), weight=1, boost_mode=\"replace\"))\n",
    "\n",
    "# If student is underrepresented, adds the value of prefer_student_underrep to the query\n",
    "if student[\"underrepresented\"]:\n",
    "    prefer_student_underrep = Q({\n",
    "        \"function_score\": {\n",
    "            \"field_value_factor\" : {\n",
    "                \"field\": \"preferStudentUnderRep\",\n",
    "                \"factor\": 1,\n",
    "                \"modifier\": \"none\",\n",
    "                \"missing\": 0\n",
    "            }\n",
    "        }\n",
    "    })\n",
    "else:\n",
    "    # Adds 0 to query if nothing is found\n",
    "    prefer_student_underrep = Q(\"constant_score\", filter=MatchNone())\n",
    "\n",
    "if student[\"requireExtended\"]:\n",
    "    requireExtended = Q(\"term\", okExtended=True)\n",
    "    combined_query = ((base_value | tags_matching | company_q | background_rural | prefer_student_underrep) & requireExtended)\n",
    "else:\n",
    "    combined_query = (base_value | tags_matching | company_q | background_rural | prefer_student_underrep)\n",
    "\n",
    "\n",
    "# Timezone - see docstring for python equivalent. Should be multiplied by the final score.\n",
    "\"\"\"\n",
    "if mentor['okTimezoneDifference']:\n",
    "    if 16 < student['timezone'] < 22:\n",
    "        return True\n",
    "    return false\n",
    "else:\n",
    "    if abs(student['timezone'] - mentor['timezone']) < 3:\n",
    "        return True\n",
    "    return False\n",
    "\"\"\"\n",
    "combined_query = Q(\"function_score\", query=combined_query, functions=[SF(\"script_score\", script={\"source\": \"\"\"\n",
    "int student_tz = params.student_tz;\n",
    "int mentor_tz = 0;\n",
    "// Null check. Even though timezone is required, somehow some null rows snuck in and bamboozled me\n",
    "if (doc['timezone'].size() == 0) {\n",
    "    mentor_tz = 0;\n",
    "} else {\n",
    "    mentor_tz = (int)doc['timezone'].value;\n",
    "}\n",
    "int diff = student_tz - mentor_tz;\n",
    "\n",
    "boolean mentor_ok_tz_diff = false;\n",
    "if (doc['okTimezoneDifference'].size() == 0) {\n",
    "    mentor_ok_tz_diff = false;\n",
    "} else {\n",
    "    mentor_ok_tz_diff = doc['okTimezoneDifference'].value;\n",
    "}\n",
    "\n",
    "if (mentor_ok_tz_diff == true) {\n",
    "    if (student_tz < 22) {\n",
    "        if (student_tz > 16) {\n",
    "            // Mentor is OK with the time difference and student has a large time difference\n",
    "            return 1;\n",
    "        }\n",
    "    } else {\n",
    "        // Mentor is ok with time difference and student has a normal time\n",
    "        return 0.75;\n",
    "    }\n",
    "} else {\n",
    "    if (diff <= 3) {\n",
    "        // Mentor is not ok with time difference and student has normal time\n",
    "        return 1;\n",
    "    } else {\n",
    "        // Mentor is not ok with time difference and student has weird time\n",
    "        return 0;\n",
    "    }\n",
    "}\n",
    "\"\"\", \"params\": {\"student_tz\": student['timezone']}})], boost_mode=\"multiply\", score_mode=\"sum\")\n",
    "\n",
    "\n",
    "s = s.query(combined_query)\n",
    "print(s.to_dict())\n",
    "resp = s.execute()\n",
    "hits = resp[\"hits\"]"
   ]
  }
 ],
 "metadata": {
  "kernelspec": {
   "display_name": "Python 3",
   "language": "python",
   "name": "python3"
  },
  "language_info": {
   "codemirror_mode": {
    "name": "ipython",
    "version": 3
   },
   "file_extension": ".py",
   "mimetype": "text/x-python",
   "name": "python",
   "nbconvert_exporter": "python",
   "pygments_lexer": "ipython3",
   "version": "3.7.7"
  }
 },
 "nbformat": 4,
 "nbformat_minor": 1
}